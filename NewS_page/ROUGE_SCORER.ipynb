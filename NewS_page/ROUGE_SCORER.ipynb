{
 "cells": [
  {
   "cell_type": "code",
   "execution_count": 1,
   "id": "b4e94457",
   "metadata": {},
   "outputs": [],
   "source": [
    "import matplotlib.pyplot as plt\n",
    "from model_set import Summarize\n",
    "import numpy as np\n",
    "from rouge_score import rouge_scorer\n",
    "from transformers import BartTokenizer, BartForConditionalGeneration\n",
    "from transformers import PreTrainedTokenizerFast, BartModel"
   ]
  },
  {
   "cell_type": "markdown",
   "id": "13e817d8",
   "metadata": {},
   "source": [
    "- 본문기사 : https://biz.heraldcorp.com/view.php?ud=20231130000417"
   ]
  },
  {
   "cell_type": "markdown",
   "id": "eac3420a",
   "metadata": {},
   "source": [
    "# BERTShared"
   ]
  },
  {
   "cell_type": "code",
   "execution_count": 2,
   "id": "c3e32620",
   "metadata": {},
   "outputs": [],
   "source": [
    "def calculate_rouge_score(original_text):\n",
    "    # BERTShared 모델을 사용하여 요약 생성\n",
    "    summarizer = Summarize('kykim/bertshared-kor-base', 'kykim/bertshared-kor-base')\n",
    "    generated_summary = summarizer(original_text)\n",
    "\n",
    "    # ROUGE 스코어 계산\n",
    "    scorer = rouge_scorer.RougeScorer(['rouge1', 'rouge2', 'rougeL'], use_stemmer=True)\n",
    "    scores = scorer.score(original_text, generated_summary)\n",
    "\n",
    "    # ROUGE 스코어 반환\n",
    "    rouge_scores = {}\n",
    "    for metric, score in scores.items():\n",
    "        rouge_scores[metric] = {\n",
    "            'precision': score.precision,\n",
    "            'recall': score.recall,\n",
    "            'fmeasure': score.fmeasure\n",
    "        }\n",
    "\n",
    "    return generated_summary, rouge_scores"
   ]
  },
  {
   "cell_type": "markdown",
   "id": "2a57a630",
   "metadata": {},
   "source": [
    "# KoBART"
   ]
  },
  {
   "cell_type": "code",
   "execution_count": 3,
   "id": "1096517d",
   "metadata": {},
   "outputs": [],
   "source": [
    "def summarize_and_evaluate(original_text):\n",
    "    # KoBART 모델을 사용하여 요약 생성\n",
    "    model_name = 'hyunwoongko/kobart'\n",
    "    tokenizer = PreTrainedTokenizerFast.from_pretrained(model_name)\n",
    "    model = BartForConditionalGeneration.from_pretrained(model_name)\n",
    "\n",
    "    # 요약 생성\n",
    "    inputs = tokenizer(original_text, return_tensors='pt', max_length=1024, truncation=True)\n",
    "    summary_ids = model.generate(inputs['input_ids'], num_beams=4, min_length=30, max_length=128, early_stopping=True)\n",
    "    generated_summary = tokenizer.decode(summary_ids[0], skip_special_tokens=True)\n",
    "\n",
    "    # ROUGE 스코어 계산\n",
    "    scorer = rouge_scorer.RougeScorer(['rouge1', 'rouge2', 'rougeL'], use_stemmer=True)\n",
    "    scores = scorer.score(original_text, generated_summary)\n",
    "\n",
    "    # ROUGE 스코어 반환\n",
    "    rouge_scores = {}\n",
    "    for metric, score in scores.items():\n",
    "        rouge_scores[metric] = {\n",
    "            'precision': score.precision,\n",
    "            'recall': score.recall,\n",
    "            'fmeasure': score.fmeasure\n",
    "        }\n",
    "\n",
    "    return generated_summary, rouge_scores"
   ]
  },
  {
   "cell_type": "markdown",
   "id": "ca7c8264",
   "metadata": {},
   "source": [
    "## BERTShared 요약"
   ]
  },
  {
   "cell_type": "code",
   "execution_count": 4,
   "id": "cfe88652",
   "metadata": {},
   "outputs": [
    {
     "name": "stderr",
     "output_type": "stream",
     "text": [
      "The following encoder weights were not tied to the decoder ['bert/pooler']\n",
      "The following encoder weights were not tied to the decoder ['bert/pooler']\n",
      "The following encoder weights were not tied to the decoder ['bert/pooler']\n",
      "The following encoder weights were not tied to the decoder ['bert/pooler']\n"
     ]
    },
    {
     "name": "stdout",
     "output_type": "stream",
     "text": [
      "Generated Summary: 올해 잇따른 묻지마 범죄, 자연재해 등으로 치안 수요가 급증한 가운데 경찰이 초과근무수당 지급 예산 조기 소진을 이유로 올해보다 6. 4 %, 843억원 증액된 예산을 정부안에 반영하는 방안을 추진하고 있는 것으로 30일 확인됐다.\n",
      "ROUGE Scores: {'rouge1': {'precision': 1.0, 'recall': 0.4, 'fmeasure': 0.5714285714285715}, 'rouge2': {'precision': 1.0, 'recall': 0.3333333333333333, 'fmeasure': 0.5}, 'rougeL': {'precision': 0.75, 'recall': 0.3, 'fmeasure': 0.4285714285714285}}\n"
     ]
    }
   ],
   "source": [
    "# BERTShared 모델의 ROUGE 스코어 계산\n",
    "original_text_bert = '''[헤럴드경제=이세진 기자] 경찰이 초과근무수당 지급 예산 조기 소진을 이유로 연말 초과근무 자제 방침을 내려 치안공백 우려 논란에 직면한 가운데, 경찰이 내년도 초과근무예산을 올해보다 843억원 증액하는 방안을 추진하고 있는 것으로 30일 확인됐다. 올해 잇따른 ‘묻지마’ 범죄, 자연재해 등으로 치안 수요가 급증한 만큼 내년도 초과근무 예산 증액으로 이에 적극 대응하겠다는 설명이다. 경찰청은 증액된 정부안 통과를 긍정적으로 전망하면서 올해 같은 초과근무수당 예산 부족 사태가 재발하지 않을 것으로 기대하고 있다.\n",
    "\n",
    "헤럴드경제가 이날 입수한 ‘11·12월 근무혁신 강화계획 관련 화상회의’(지난 24일) 자료에 따르면 경찰은 2024년 경찰 초과근무수당 예산안으로 올해보다 6.4%, 843억원 증액된 예산이 정부안에 반영돼 있다고 밝히고 있다.\n",
    "\n",
    "경찰은 이달 초 각 시·도 경찰청과 부속기관에 초과·자원근무를 최소화하라는 내용의 ‘근무혁신 강화계획’을 하달했다. 이 같은 ‘초과근무 자제령’이 치안 공백을 초래할 수 있다는 비판에 직면하자 경찰이 지난 24일 관련 대책을 논의하기 위해 연 화상회의에서 “내년도 예산안 증액 확보로 같은 사태 발생을 방지할 수 있다”며 논란을 진화하고 나선 것이다.\n",
    "\n",
    "앞서 올해는 흉기난동 범죄로 인한 특별치안활동, 오송 참사와 잼버리 사태 등으로 인한'''\n",
    "generated_summary_bert, rouge_scores_bert = calculate_rouge_score(original_text_bert)\n",
    "\n",
    "print(\"Generated Summary:\", generated_summary_bert)\n",
    "print(\"ROUGE Scores:\", rouge_scores_bert)"
   ]
  },
  {
   "cell_type": "markdown",
   "id": "63020322",
   "metadata": {},
   "source": [
    "## KoBART 요약"
   ]
  },
  {
   "cell_type": "code",
   "execution_count": 5,
   "id": "d9b418a0",
   "metadata": {},
   "outputs": [
    {
     "name": "stderr",
     "output_type": "stream",
     "text": [
      "You passed along `num_labels=3` with an incompatible id to label map: {'0': 'NEGATIVE', '1': 'POSITIVE'}. The number of labels wil be overwritten to 2.\n"
     ]
    },
    {
     "name": "stdout",
     "output_type": "stream",
     "text": [
      "Generated Summary: \n",
      " [헤럴드경제=이세진 기자] 경찰이 초과근무수당 지급 예산 조기 소진을 이유로 연말 초과근무 자제 방침을 내려 치안공백 우려 논란에 직면한 가운데, 경찰이 내년도 초과근무예산을 올해보다 843억원 증액하는 방안을 추진하고 있는 것으로 30일 확인됐다. 올해 잇따른 ‘묻지마’ 범죄, 자연재해 등으로 치안 수요가 급증한 만큼 내년도 초과근무 예산 증액으로 이에 적극 대응하겠다는 설명이다. 경찰청은 증액된 정부안 통과를 긍정적으로 전망하면서 올해 같은 초과근무수당 예산 부족 사태가 재발하지 않을 것으로 기대하고 있다.\n",
      "\n",
      "헤럴드경제가 이날 입수한 ‘11·\n",
      "ROUGE Scores: {'rouge1': {'precision': 1.0, 'recall': 0.3, 'fmeasure': 0.4615384615384615}, 'rouge2': {'precision': 1.0, 'recall': 0.2222222222222222, 'fmeasure': 0.3636363636363636}, 'rougeL': {'precision': 1.0, 'recall': 0.3, 'fmeasure': 0.4615384615384615}}\n"
     ]
    }
   ],
   "source": [
    "# KoBART 모델의 ROUGE 스코어 계산\n",
    "original_text_kobart = '''[헤럴드경제=이세진 기자] 경찰이 초과근무수당 지급 예산 조기 소진을 이유로 연말 초과근무 자제 방침을 내려 치안공백 우려 논란에 직면한 가운데, 경찰이 내년도 초과근무예산을 올해보다 843억원 증액하는 방안을 추진하고 있는 것으로 30일 확인됐다. 올해 잇따른 ‘묻지마’ 범죄, 자연재해 등으로 치안 수요가 급증한 만큼 내년도 초과근무 예산 증액으로 이에 적극 대응하겠다는 설명이다. 경찰청은 증액된 정부안 통과를 긍정적으로 전망하면서 올해 같은 초과근무수당 예산 부족 사태가 재발하지 않을 것으로 기대하고 있다.\n",
    "\n",
    "헤럴드경제가 이날 입수한 ‘11·12월 근무혁신 강화계획 관련 화상회의’(지난 24일) 자료에 따르면 경찰은 2024년 경찰 초과근무수당 예산안으로 올해보다 6.4%, 843억원 증액된 예산이 정부안에 반영돼 있다고 밝히고 있다.\n",
    "\n",
    "경찰은 이달 초 각 시·도 경찰청과 부속기관에 초과·자원근무를 최소화하라는 내용의 ‘근무혁신 강화계획’을 하달했다. 이 같은 ‘초과근무 자제령’이 치안 공백을 초래할 수 있다는 비판에 직면하자 경찰이 지난 24일 관련 대책을 논의하기 위해 연 화상회의에서 “내년도 예산안 증액 확보로 같은 사태 발생을 방지할 수 있다”며 논란을 진화하고 나선 것이다.\n",
    "\n",
    "앞서 올해는 흉기난동 범죄로 인한 특별치안활동, 오송 참사와 잼버리 사태 등으로 인한'''\n",
    "generated_summary_kobart, rouge_scores_kobart = summarize_and_evaluate(original_text_kobart)\n",
    "\n",
    "print(\"Generated Summary:\", generated_summary_kobart)\n",
    "print(\"ROUGE Scores:\", rouge_scores_kobart)"
   ]
  },
  {
   "cell_type": "markdown",
   "id": "bc89b125",
   "metadata": {},
   "source": [
    "## BERTShared vs KoBART 비교 시각화"
   ]
  },
  {
   "cell_type": "code",
   "execution_count": 6,
   "id": "ec81b9a2",
   "metadata": {},
   "outputs": [
    {
     "ename": "FileNotFoundError",
     "evalue": "[Errno 2] No such file or directory: 'C:/Users/ghdtm/OneDrive/바탕 화면/project/BERTShared vs KoBART.png'",
     "output_type": "error",
     "traceback": [
      "\u001b[1;31m---------------------------------------------------------------------------\u001b[0m",
      "\u001b[1;31mFileNotFoundError\u001b[0m                         Traceback (most recent call last)",
      "Cell \u001b[1;32mIn[6], line 23\u001b[0m\n\u001b[0;32m     20\u001b[0m     plt\u001b[38;5;241m.\u001b[39mshow()\n\u001b[0;32m     22\u001b[0m \u001b[38;5;66;03m# 시각화 함수 호출\u001b[39;00m\n\u001b[1;32m---> 23\u001b[0m \u001b[43mplot_fmeasure_scores\u001b[49m\u001b[43m(\u001b[49m\u001b[43mrouge_scores_bert\u001b[49m\u001b[43m,\u001b[49m\u001b[43m \u001b[49m\u001b[43mrouge_scores_kobart\u001b[49m\u001b[43m)\u001b[49m\n",
      "Cell \u001b[1;32mIn[6], line 19\u001b[0m, in \u001b[0;36mplot_fmeasure_scores\u001b[1;34m(rouge_scores1, rouge_scores2)\u001b[0m\n\u001b[0;32m     17\u001b[0m plt\u001b[38;5;241m.\u001b[39mxticks(index \u001b[38;5;241m+\u001b[39m bar_width \u001b[38;5;241m/\u001b[39m \u001b[38;5;241m2\u001b[39m, metrics)\n\u001b[0;32m     18\u001b[0m plt\u001b[38;5;241m.\u001b[39mlegend()\n\u001b[1;32m---> 19\u001b[0m \u001b[43mplt\u001b[49m\u001b[38;5;241;43m.\u001b[39;49m\u001b[43msavefig\u001b[49m\u001b[43m(\u001b[49m\u001b[38;5;124;43m'\u001b[39;49m\u001b[38;5;124;43mC:/Users/ghdtm/OneDrive/바탕 화면/project/BERTShared vs KoBART.png\u001b[39;49m\u001b[38;5;124;43m'\u001b[39;49m\u001b[43m)\u001b[49m\n\u001b[0;32m     20\u001b[0m plt\u001b[38;5;241m.\u001b[39mshow()\n",
      "File \u001b[1;32mC:\\ProgramData\\anaconda3\\lib\\site-packages\\matplotlib\\pyplot.py:996\u001b[0m, in \u001b[0;36msavefig\u001b[1;34m(*args, **kwargs)\u001b[0m\n\u001b[0;32m    993\u001b[0m \u001b[38;5;129m@_copy_docstring_and_deprecators\u001b[39m(Figure\u001b[38;5;241m.\u001b[39msavefig)\n\u001b[0;32m    994\u001b[0m \u001b[38;5;28;01mdef\u001b[39;00m \u001b[38;5;21msavefig\u001b[39m(\u001b[38;5;241m*\u001b[39margs, \u001b[38;5;241m*\u001b[39m\u001b[38;5;241m*\u001b[39mkwargs):\n\u001b[0;32m    995\u001b[0m     fig \u001b[38;5;241m=\u001b[39m gcf()\n\u001b[1;32m--> 996\u001b[0m     res \u001b[38;5;241m=\u001b[39m fig\u001b[38;5;241m.\u001b[39msavefig(\u001b[38;5;241m*\u001b[39margs, \u001b[38;5;241m*\u001b[39m\u001b[38;5;241m*\u001b[39mkwargs)\n\u001b[0;32m    997\u001b[0m     fig\u001b[38;5;241m.\u001b[39mcanvas\u001b[38;5;241m.\u001b[39mdraw_idle()  \u001b[38;5;66;03m# Need this if 'transparent=True', to reset colors.\u001b[39;00m\n\u001b[0;32m    998\u001b[0m     \u001b[38;5;28;01mreturn\u001b[39;00m res\n",
      "File \u001b[1;32mC:\\ProgramData\\anaconda3\\lib\\site-packages\\matplotlib\\figure.py:3328\u001b[0m, in \u001b[0;36mFigure.savefig\u001b[1;34m(self, fname, transparent, **kwargs)\u001b[0m\n\u001b[0;32m   3324\u001b[0m     \u001b[38;5;28;01mfor\u001b[39;00m ax \u001b[38;5;129;01min\u001b[39;00m \u001b[38;5;28mself\u001b[39m\u001b[38;5;241m.\u001b[39maxes:\n\u001b[0;32m   3325\u001b[0m         stack\u001b[38;5;241m.\u001b[39menter_context(\n\u001b[0;32m   3326\u001b[0m             ax\u001b[38;5;241m.\u001b[39mpatch\u001b[38;5;241m.\u001b[39m_cm_set(facecolor\u001b[38;5;241m=\u001b[39m\u001b[38;5;124m'\u001b[39m\u001b[38;5;124mnone\u001b[39m\u001b[38;5;124m'\u001b[39m, edgecolor\u001b[38;5;241m=\u001b[39m\u001b[38;5;124m'\u001b[39m\u001b[38;5;124mnone\u001b[39m\u001b[38;5;124m'\u001b[39m))\n\u001b[1;32m-> 3328\u001b[0m \u001b[38;5;28mself\u001b[39m\u001b[38;5;241m.\u001b[39mcanvas\u001b[38;5;241m.\u001b[39mprint_figure(fname, \u001b[38;5;241m*\u001b[39m\u001b[38;5;241m*\u001b[39mkwargs)\n",
      "File \u001b[1;32mC:\\ProgramData\\anaconda3\\lib\\site-packages\\matplotlib\\backend_bases.py:2362\u001b[0m, in \u001b[0;36mFigureCanvasBase.print_figure\u001b[1;34m(self, filename, dpi, facecolor, edgecolor, orientation, format, bbox_inches, pad_inches, bbox_extra_artists, backend, **kwargs)\u001b[0m\n\u001b[0;32m   2358\u001b[0m \u001b[38;5;28;01mtry\u001b[39;00m:\n\u001b[0;32m   2359\u001b[0m     \u001b[38;5;66;03m# _get_renderer may change the figure dpi (as vector formats\u001b[39;00m\n\u001b[0;32m   2360\u001b[0m     \u001b[38;5;66;03m# force the figure dpi to 72), so we need to set it again here.\u001b[39;00m\n\u001b[0;32m   2361\u001b[0m     \u001b[38;5;28;01mwith\u001b[39;00m cbook\u001b[38;5;241m.\u001b[39m_setattr_cm(\u001b[38;5;28mself\u001b[39m\u001b[38;5;241m.\u001b[39mfigure, dpi\u001b[38;5;241m=\u001b[39mdpi):\n\u001b[1;32m-> 2362\u001b[0m         result \u001b[38;5;241m=\u001b[39m print_method(\n\u001b[0;32m   2363\u001b[0m             filename,\n\u001b[0;32m   2364\u001b[0m             facecolor\u001b[38;5;241m=\u001b[39mfacecolor,\n\u001b[0;32m   2365\u001b[0m             edgecolor\u001b[38;5;241m=\u001b[39medgecolor,\n\u001b[0;32m   2366\u001b[0m             orientation\u001b[38;5;241m=\u001b[39morientation,\n\u001b[0;32m   2367\u001b[0m             bbox_inches_restore\u001b[38;5;241m=\u001b[39m_bbox_inches_restore,\n\u001b[0;32m   2368\u001b[0m             \u001b[38;5;241m*\u001b[39m\u001b[38;5;241m*\u001b[39mkwargs)\n\u001b[0;32m   2369\u001b[0m \u001b[38;5;28;01mfinally\u001b[39;00m:\n\u001b[0;32m   2370\u001b[0m     \u001b[38;5;28;01mif\u001b[39;00m bbox_inches \u001b[38;5;129;01mand\u001b[39;00m restore_bbox:\n",
      "File \u001b[1;32mC:\\ProgramData\\anaconda3\\lib\\site-packages\\matplotlib\\backend_bases.py:2228\u001b[0m, in \u001b[0;36mFigureCanvasBase._switch_canvas_and_return_print_method.<locals>.<lambda>\u001b[1;34m(*args, **kwargs)\u001b[0m\n\u001b[0;32m   2224\u001b[0m     optional_kws \u001b[38;5;241m=\u001b[39m {  \u001b[38;5;66;03m# Passed by print_figure for other renderers.\u001b[39;00m\n\u001b[0;32m   2225\u001b[0m         \u001b[38;5;124m\"\u001b[39m\u001b[38;5;124mdpi\u001b[39m\u001b[38;5;124m\"\u001b[39m, \u001b[38;5;124m\"\u001b[39m\u001b[38;5;124mfacecolor\u001b[39m\u001b[38;5;124m\"\u001b[39m, \u001b[38;5;124m\"\u001b[39m\u001b[38;5;124medgecolor\u001b[39m\u001b[38;5;124m\"\u001b[39m, \u001b[38;5;124m\"\u001b[39m\u001b[38;5;124morientation\u001b[39m\u001b[38;5;124m\"\u001b[39m,\n\u001b[0;32m   2226\u001b[0m         \u001b[38;5;124m\"\u001b[39m\u001b[38;5;124mbbox_inches_restore\u001b[39m\u001b[38;5;124m\"\u001b[39m}\n\u001b[0;32m   2227\u001b[0m     skip \u001b[38;5;241m=\u001b[39m optional_kws \u001b[38;5;241m-\u001b[39m {\u001b[38;5;241m*\u001b[39minspect\u001b[38;5;241m.\u001b[39msignature(meth)\u001b[38;5;241m.\u001b[39mparameters}\n\u001b[1;32m-> 2228\u001b[0m     print_method \u001b[38;5;241m=\u001b[39m functools\u001b[38;5;241m.\u001b[39mwraps(meth)(\u001b[38;5;28;01mlambda\u001b[39;00m \u001b[38;5;241m*\u001b[39margs, \u001b[38;5;241m*\u001b[39m\u001b[38;5;241m*\u001b[39mkwargs: meth(\n\u001b[0;32m   2229\u001b[0m         \u001b[38;5;241m*\u001b[39margs, \u001b[38;5;241m*\u001b[39m\u001b[38;5;241m*\u001b[39m{k: v \u001b[38;5;28;01mfor\u001b[39;00m k, v \u001b[38;5;129;01min\u001b[39;00m kwargs\u001b[38;5;241m.\u001b[39mitems() \u001b[38;5;28;01mif\u001b[39;00m k \u001b[38;5;129;01mnot\u001b[39;00m \u001b[38;5;129;01min\u001b[39;00m skip}))\n\u001b[0;32m   2230\u001b[0m \u001b[38;5;28;01melse\u001b[39;00m:  \u001b[38;5;66;03m# Let third-parties do as they see fit.\u001b[39;00m\n\u001b[0;32m   2231\u001b[0m     print_method \u001b[38;5;241m=\u001b[39m meth\n",
      "File \u001b[1;32mC:\\ProgramData\\anaconda3\\lib\\site-packages\\matplotlib\\backends\\backend_agg.py:509\u001b[0m, in \u001b[0;36mFigureCanvasAgg.print_png\u001b[1;34m(self, filename_or_obj, metadata, pil_kwargs)\u001b[0m\n\u001b[0;32m    462\u001b[0m \u001b[38;5;28;01mdef\u001b[39;00m \u001b[38;5;21mprint_png\u001b[39m(\u001b[38;5;28mself\u001b[39m, filename_or_obj, \u001b[38;5;241m*\u001b[39m, metadata\u001b[38;5;241m=\u001b[39m\u001b[38;5;28;01mNone\u001b[39;00m, pil_kwargs\u001b[38;5;241m=\u001b[39m\u001b[38;5;28;01mNone\u001b[39;00m):\n\u001b[0;32m    463\u001b[0m \u001b[38;5;250m    \u001b[39m\u001b[38;5;124;03m\"\"\"\u001b[39;00m\n\u001b[0;32m    464\u001b[0m \u001b[38;5;124;03m    Write the figure to a PNG file.\u001b[39;00m\n\u001b[0;32m    465\u001b[0m \n\u001b[1;32m   (...)\u001b[0m\n\u001b[0;32m    507\u001b[0m \u001b[38;5;124;03m        *metadata*, including the default 'Software' key.\u001b[39;00m\n\u001b[0;32m    508\u001b[0m \u001b[38;5;124;03m    \"\"\"\u001b[39;00m\n\u001b[1;32m--> 509\u001b[0m     \u001b[38;5;28;43mself\u001b[39;49m\u001b[38;5;241;43m.\u001b[39;49m\u001b[43m_print_pil\u001b[49m\u001b[43m(\u001b[49m\u001b[43mfilename_or_obj\u001b[49m\u001b[43m,\u001b[49m\u001b[43m \u001b[49m\u001b[38;5;124;43m\"\u001b[39;49m\u001b[38;5;124;43mpng\u001b[39;49m\u001b[38;5;124;43m\"\u001b[39;49m\u001b[43m,\u001b[49m\u001b[43m \u001b[49m\u001b[43mpil_kwargs\u001b[49m\u001b[43m,\u001b[49m\u001b[43m \u001b[49m\u001b[43mmetadata\u001b[49m\u001b[43m)\u001b[49m\n",
      "File \u001b[1;32mC:\\ProgramData\\anaconda3\\lib\\site-packages\\matplotlib\\backends\\backend_agg.py:458\u001b[0m, in \u001b[0;36mFigureCanvasAgg._print_pil\u001b[1;34m(self, filename_or_obj, fmt, pil_kwargs, metadata)\u001b[0m\n\u001b[0;32m    453\u001b[0m \u001b[38;5;250m\u001b[39m\u001b[38;5;124;03m\"\"\"\u001b[39;00m\n\u001b[0;32m    454\u001b[0m \u001b[38;5;124;03mDraw the canvas, then save it using `.image.imsave` (to which\u001b[39;00m\n\u001b[0;32m    455\u001b[0m \u001b[38;5;124;03m*pil_kwargs* and *metadata* are forwarded).\u001b[39;00m\n\u001b[0;32m    456\u001b[0m \u001b[38;5;124;03m\"\"\"\u001b[39;00m\n\u001b[0;32m    457\u001b[0m FigureCanvasAgg\u001b[38;5;241m.\u001b[39mdraw(\u001b[38;5;28mself\u001b[39m)\n\u001b[1;32m--> 458\u001b[0m \u001b[43mmpl\u001b[49m\u001b[38;5;241;43m.\u001b[39;49m\u001b[43mimage\u001b[49m\u001b[38;5;241;43m.\u001b[39;49m\u001b[43mimsave\u001b[49m\u001b[43m(\u001b[49m\n\u001b[0;32m    459\u001b[0m \u001b[43m    \u001b[49m\u001b[43mfilename_or_obj\u001b[49m\u001b[43m,\u001b[49m\u001b[43m \u001b[49m\u001b[38;5;28;43mself\u001b[39;49m\u001b[38;5;241;43m.\u001b[39;49m\u001b[43mbuffer_rgba\u001b[49m\u001b[43m(\u001b[49m\u001b[43m)\u001b[49m\u001b[43m,\u001b[49m\u001b[43m \u001b[49m\u001b[38;5;28;43mformat\u001b[39;49m\u001b[38;5;241;43m=\u001b[39;49m\u001b[43mfmt\u001b[49m\u001b[43m,\u001b[49m\u001b[43m \u001b[49m\u001b[43morigin\u001b[49m\u001b[38;5;241;43m=\u001b[39;49m\u001b[38;5;124;43m\"\u001b[39;49m\u001b[38;5;124;43mupper\u001b[39;49m\u001b[38;5;124;43m\"\u001b[39;49m\u001b[43m,\u001b[49m\n\u001b[0;32m    460\u001b[0m \u001b[43m    \u001b[49m\u001b[43mdpi\u001b[49m\u001b[38;5;241;43m=\u001b[39;49m\u001b[38;5;28;43mself\u001b[39;49m\u001b[38;5;241;43m.\u001b[39;49m\u001b[43mfigure\u001b[49m\u001b[38;5;241;43m.\u001b[39;49m\u001b[43mdpi\u001b[49m\u001b[43m,\u001b[49m\u001b[43m \u001b[49m\u001b[43mmetadata\u001b[49m\u001b[38;5;241;43m=\u001b[39;49m\u001b[43mmetadata\u001b[49m\u001b[43m,\u001b[49m\u001b[43m \u001b[49m\u001b[43mpil_kwargs\u001b[49m\u001b[38;5;241;43m=\u001b[39;49m\u001b[43mpil_kwargs\u001b[49m\u001b[43m)\u001b[49m\n",
      "File \u001b[1;32mC:\\ProgramData\\anaconda3\\lib\\site-packages\\matplotlib\\image.py:1687\u001b[0m, in \u001b[0;36mimsave\u001b[1;34m(fname, arr, vmin, vmax, cmap, format, origin, dpi, metadata, pil_kwargs)\u001b[0m\n\u001b[0;32m   1685\u001b[0m pil_kwargs\u001b[38;5;241m.\u001b[39msetdefault(\u001b[38;5;124m\"\u001b[39m\u001b[38;5;124mformat\u001b[39m\u001b[38;5;124m\"\u001b[39m, \u001b[38;5;28mformat\u001b[39m)\n\u001b[0;32m   1686\u001b[0m pil_kwargs\u001b[38;5;241m.\u001b[39msetdefault(\u001b[38;5;124m\"\u001b[39m\u001b[38;5;124mdpi\u001b[39m\u001b[38;5;124m\"\u001b[39m, (dpi, dpi))\n\u001b[1;32m-> 1687\u001b[0m image\u001b[38;5;241m.\u001b[39msave(fname, \u001b[38;5;241m*\u001b[39m\u001b[38;5;241m*\u001b[39mpil_kwargs)\n",
      "File \u001b[1;32mC:\\ProgramData\\anaconda3\\lib\\site-packages\\PIL\\Image.py:2428\u001b[0m, in \u001b[0;36mImage.save\u001b[1;34m(self, fp, format, **params)\u001b[0m\n\u001b[0;32m   2426\u001b[0m         fp \u001b[38;5;241m=\u001b[39m builtins\u001b[38;5;241m.\u001b[39mopen(filename, \u001b[38;5;124m\"\u001b[39m\u001b[38;5;124mr+b\u001b[39m\u001b[38;5;124m\"\u001b[39m)\n\u001b[0;32m   2427\u001b[0m     \u001b[38;5;28;01melse\u001b[39;00m:\n\u001b[1;32m-> 2428\u001b[0m         fp \u001b[38;5;241m=\u001b[39m \u001b[43mbuiltins\u001b[49m\u001b[38;5;241;43m.\u001b[39;49m\u001b[43mopen\u001b[49m\u001b[43m(\u001b[49m\u001b[43mfilename\u001b[49m\u001b[43m,\u001b[49m\u001b[43m \u001b[49m\u001b[38;5;124;43m\"\u001b[39;49m\u001b[38;5;124;43mw+b\u001b[39;49m\u001b[38;5;124;43m\"\u001b[39;49m\u001b[43m)\u001b[49m\n\u001b[0;32m   2430\u001b[0m \u001b[38;5;28;01mtry\u001b[39;00m:\n\u001b[0;32m   2431\u001b[0m     save_handler(\u001b[38;5;28mself\u001b[39m, fp, filename)\n",
      "\u001b[1;31mFileNotFoundError\u001b[0m: [Errno 2] No such file or directory: 'C:/Users/ghdtm/OneDrive/바탕 화면/project/BERTShared vs KoBART.png'"
     ]
    },
    {
     "data": {
      "image/png": "[encoded data removed]",
      "text/plain": [
       "<Figure size 1000x600 with 1 Axes>"
      ]
     },
     "metadata": {},
     "output_type": "display_data"
    }
   ],
   "source": [
    "def plot_fmeasure_scores(rouge_scores1, rouge_scores2):\n",
    "    metrics = ['rouge1', 'rouge2', 'rougeL']\n",
    "    fmeasure_scores_bert = [rouge_scores1[metric]['fmeasure'] for metric in metrics]\n",
    "    fmeasure_scores_kobart = [rouge_scores2[metric]['fmeasure'] for metric in metrics]\n",
    "\n",
    "    bar_width = 0.35\n",
    "    index = np.arange(len(metrics))\n",
    "\n",
    "    plt.figure(figsize=(10, 6))\n",
    "\n",
    "    plt.bar(index, fmeasure_scores_bert, bar_width, alpha=0.7, label='BERTShared')\n",
    "    plt.bar(index + bar_width, fmeasure_scores_kobart, bar_width, alpha=0.7, label='KoBART')\n",
    "\n",
    "    plt.xlabel('ROUGE Metrics')\n",
    "    plt.ylabel('SCORE')\n",
    "    plt.title('ROUGE Scores of BERTShared vs. KoBART')\n",
    "    plt.xticks(index + bar_width / 2, metrics)\n",
    "    plt.legend()\n",
    "    plt.savefig('C:/Users/ghdtm/OneDrive/바탕 화면/project/BERTShared vs KoBART.png')\n",
    "    plt.show()\n",
    "\n",
    "# 시각화 함수 호출\n",
    "plot_fmeasure_scores(rouge_scores_bert, rouge_scores_kobart)"
   ]
  },
  {
   "cell_type": "markdown",
   "id": "874a5e34",
   "metadata": {},
   "source": [
    "- ROUGE-1\n",
    "    - 단어 하나하나를 비교\n",
    "    - 요약이 있으면, 원본 글과 얼마나 많은 단어가 겹치는지 보여줌\n",
    "\n",
    "- ROUGE-2\n",
    "    - 두 단어씩 묶어서 비교\n",
    "    - 두 단어씩 묶어서 얼마나 많이 겹치는지를 측정\n",
    "        -  \"고양이가 매트 위에 있다\"와 \"고양이가 매트 위에서 놀고 있다\"를 비교\n",
    "        \n",
    "- ROUGE-L\n",
    "    - 문장의 구조를 고려\n",
    "    - 긴 공통된 문장 구조가 있는지 보여줌\n",
    "    - 단어가 아니라 문장의 모양이 얼마나 비슷한지를 보는것\n"
   ]
  },
  {
   "cell_type": "code",
   "execution_count": null,
   "id": "43090c67",
   "metadata": {},
   "outputs": [],
   "source": []
  }
 ],
 "metadata": {
  "kernelspec": {
   "display_name": "Python 3 (ipykernel)",
   "language": "python",
   "name": "python3"
  },
  "language_info": {
   "codemirror_mode": {
    "name": "ipython",
    "version": 3
   },
   "file_extension": ".py",
   "mimetype": "text/x-python",
   "name": "python",
   "nbconvert_exporter": "python",
   "pygments_lexer": "ipython3",
   "version": "3.10.13"
  }
 },
 "nbformat": 4,
 "nbformat_minor": 5
}
